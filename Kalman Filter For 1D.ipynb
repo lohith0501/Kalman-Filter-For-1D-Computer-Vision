{
 "cells": [
  {
   "cell_type": "markdown",
   "metadata": {},
   "source": [
    "# Implementing 1D Kalman Filter "
   ]
  },
  {
   "cell_type": "code",
   "execution_count": 10,
   "metadata": {},
   "outputs": [],
   "source": [
    "from math import *\n",
    "import matplotlib.pyplot as plt\n",
    "import numpy as np\n",
    "\n",
    "# gaussian function\n",
    "def f(mu, sigma2, x):\n",
    "    ''' f takes in a mean and squared variance, and an input x\n",
    "       and returns the gaussian value.'''\n",
    "    coefficient = 1.0 / sqrt(2.0 * pi *sigma2)\n",
    "    exponential = exp(-0.5 * (x-mu) ** 2 / sigma2)\n",
    "    return coefficient * exponential"
   ]
  },
  {
   "cell_type": "code",
   "execution_count": 11,
   "metadata": {},
   "outputs": [],
   "source": [
    "# update function\n",
    "def update(mean1, var1, mean2, var2):\n",
    "    new_mean = (var2*mean1 + var1*mean2)/(var2+var1)\n",
    "    new_var = 1/(1/var2 + 1/var1)\n",
    "    \n",
    "    return [new_mean, new_var]\n",
    "\n",
    "# motion update/predict function\n",
    "def predict(mean1, var1, mean2, var2):\n",
    "    new_mean = mean1 + mean2\n",
    "    new_var = var1 + var2\n",
    "    \n",
    "    return [new_mean, new_var]"
   ]
  },
  {
   "cell_type": "code",
   "execution_count": 12,
   "metadata": {},
   "outputs": [
    {
     "name": "stdout",
     "output_type": "stream",
     "text": [
      "Update: [4.998000799680128, 3.9984006397441023]\n",
      "Predict: [5.998000799680128, 5.998400639744102]\n",
      "Update: [5.999200191953932, 2.399744061425258]\n",
      "Predict: [6.999200191953932, 4.399744061425258]\n",
      "Update: [6.999619127420922, 2.0951800575117594]\n",
      "Predict: [8.999619127420921, 4.09518005751176]\n",
      "Update: [8.999811802788143, 2.0235152416216957]\n",
      "Predict: [9.999811802788143, 4.023515241621696]\n",
      "Update: [9.999906177177365, 2.0058615808441944]\n",
      "Predict: [10.999906177177365, 4.005861580844194]\n",
      "\n",
      "\n",
      "Final result: [10.999906177177365, 4.005861580844194]\n"
     ]
    }
   ],
   "source": [
    "# measurements for mu and motions, U\n",
    "measurements = [5., 6., 7., 9., 10.]\n",
    "motions = [1., 1., 2., 1., 1.]\n",
    "\n",
    "# initial parameters\n",
    "measurement_sig = 4.\n",
    "motion_sig = 2.\n",
    "mu = 0.\n",
    "sig = 10000.\n",
    "\n",
    "for n in range(len(measurements)):\n",
    "    # measurement update, with uncertainty\n",
    "    mu, sig = update(mu, sig, measurements[n], measurement_sig)\n",
    "    print('Update: [{}, {}]'.format(mu, sig))\n",
    "    # motion update, with uncertainty\n",
    "    mu, sig = predict(mu, sig, motions[n], motion_sig)\n",
    "    print('Predict: [{}, {}]'.format(mu, sig))\n",
    "    \n",
    "# print the final, resultant mu, sig\n",
    "print('\\n')\n",
    "print('Final result: [{}, {}]'.format(mu, sig))"
   ]
  },
  {
   "cell_type": "code",
   "execution_count": 13,
   "metadata": {},
   "outputs": [
    {
     "data": {
      "text/plain": [
       "[<matplotlib.lines.Line2D at 0x2324bf73988>]"
      ]
     },
     "execution_count": 13,
     "metadata": {},
     "output_type": "execute_result"
    },
    {
     "data": {
      "image/png": "[encoded data removed]",
      "text/plain": [
       "<Figure size 432x288 with 1 Axes>"
      ]
     },
     "metadata": {
      "needs_background": "light"
     },
     "output_type": "display_data"
    }
   ],
   "source": [
    "## Kalman filter output in Gausian form\n",
    "mu = mu\n",
    "sigma2 = sig\n",
    "\n",
    "# define a range of x values\n",
    "x_axis = np.arange(-20, 20, 0.1)\n",
    "\n",
    "g = []\n",
    "for x in x_axis:\n",
    "    g.append(f(mu, sigma2, x))\n",
    "\n",
    "# plot the result \n",
    "plt.plot(x_axis, g)"
   ]
  },
  {
   "cell_type": "code",
   "execution_count": null,
   "metadata": {},
   "outputs": [],
   "source": []
  }
 ],
 "metadata": {
  "kernelspec": {
   "display_name": "Python 3",
   "language": "python",
   "name": "python3"
  },
  "language_info": {
   "codemirror_mode": {
    "name": "ipython",
    "version": 3
   },
   "file_extension": ".py",
   "mimetype": "text/x-python",
   "name": "python",
   "nbconvert_exporter": "python",
   "pygments_lexer": "ipython3",
   "version": "3.7.7"
  }
 },
 "nbformat": 4,
 "nbformat_minor": 4
}
